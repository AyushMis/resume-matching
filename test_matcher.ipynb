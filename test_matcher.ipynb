{
 "cells": [
  {
   "cell_type": "code",
   "execution_count": 1,
   "id": "2f932f83-a4ff-4398-b303-a03b3b4de83b",
   "metadata": {},
   "outputs": [
    {
     "name": "stderr",
     "output_type": "stream",
     "text": [
      "/Users/ayushmishra/Library/Python/3.9/lib/python/site-packages/tqdm/auto.py:21: TqdmWarning: IProgress not found. Please update jupyter and ipywidgets. See https://ipywidgets.readthedocs.io/en/stable/user_install.html\n",
      "  from .autonotebook import tqdm as notebook_tqdm\n"
     ]
    }
   ],
   "source": [
    "import unittest\n",
    "%run matcher.ipynb"
   ]
  },
  {
   "cell_type": "code",
   "execution_count": 2,
   "id": "a4addfee-378f-4980-8dd2-6d8539ac1a6a",
   "metadata": {},
   "outputs": [
    {
     "name": "stderr",
     "output_type": "stream",
     "text": [
      "E\n",
      "======================================================================\n",
      "ERROR: /Users/ayushmishra/Library/Jupyter/runtime/kernel-aadb92e8-fa4b-4aeb-921a-4499b9e6f1fb (unittest.loader._FailedTest)\n",
      "----------------------------------------------------------------------\n",
      "AttributeError: module '__main__' has no attribute '/Users/ayushmishra/Library/Jupyter/runtime/kernel-aadb92e8-fa4b-4aeb-921a-4499b9e6f1fb'\n",
      "\n",
      "----------------------------------------------------------------------\n",
      "Ran 1 test in 0.001s\n",
      "\n",
      "FAILED (errors=1)\n"
     ]
    },
    {
     "ename": "SystemExit",
     "evalue": "True",
     "output_type": "error",
     "traceback": [
      "An exception has occurred, use %tb to see the full traceback.\n",
      "\u001b[0;31mSystemExit\u001b[0m\u001b[0;31m:\u001b[0m True\n"
     ]
    },
    {
     "name": "stderr",
     "output_type": "stream",
     "text": [
      "/Users/ayushmishra/Library/Python/3.9/lib/python/site-packages/IPython/core/interactiveshell.py:3556: UserWarning: To exit: use 'exit', 'quit', or Ctrl-D.\n",
      "  warn(\"To exit: use 'exit', 'quit', or Ctrl-D.\", stacklevel=1)\n"
     ]
    }
   ],
   "source": [
    "class TestResumeMatching(unittest.TestCase):\n",
    "    \n",
    "    def test_extract_attributes(self):\n",
    "        # Test case for the extract_attributes function\n",
    "\n",
    "        # Sample job description\n",
    "        job_description = \"\"\"\n",
    "        Chief NLP Scientist\n",
    "        $100k – $180k • 0.5% – 1.0%\n",
    "        About the job\n",
    "        *Position Summary *\n",
    "        The NLP platform is the core virtual platform powering the vision of delivering the world’s best and fully autonomous intelligent agent to our users.\n",
    "        \"\"\"\n",
    "        # Sample resume\n",
    "        resume = \"\"\"\n",
    "        John Doe\n",
    "        Machine Learning Engineer\n",
    "        Location: San Francisco, CA\n",
    "        Education: MS in Computer Science\n",
    "        Skills: Python, NLP, TensorFlow\n",
    "        \"\"\"\n",
    "        matcher = ResumeMatcher(job_description, )\n",
    "        job_title, location, industry, education, skills = extract_attributes(job_description)\n",
    "\n",
    "        # Validate extracted attributes\n",
    "        self.assertEqual(job_title, \"Chief NLP Scientist\")\n",
    "        self.assertIsNone(location)  # Assuming location is not explicitly mentioned in the job description\n",
    "        self.assertIsNone(industry)  # Assuming industry is not explicitly mentioned in the job description\n",
    "        self.assertEqual(education, \"MS in Computer Science\")\n",
    "        self.assertEqual(skills, \"NLP, TensorFlow\")\n",
    "\n",
    "    def test_matching_engine(self):\n",
    "        # Test case for the matching engine\n",
    "\n",
    "        # Sample attributes\n",
    "        job_attributes = {\n",
    "            'job_title': 'Data Scientist',\n",
    "            'location': 'New York',\n",
    "            'industry': 'Finance',\n",
    "            'education': 'Ph.D. in Statistics',\n",
    "            'skills': 'Python, Machine Learning'\n",
    "        }\n",
    "\n",
    "        resume_attributes = {\n",
    "            'job_title': 'Data Scientist',\n",
    "            'location': 'New York',\n",
    "            'industry': 'Finance',\n",
    "            'education': 'Ph.D. in Statistics',\n",
    "            'skills': 'Python, Machine Learning'\n",
    "        }\n",
    "\n",
    "        # Sample weights (for demonstration purposes)\n",
    "        weights = {\n",
    "            'job_title': 5,\n",
    "            'location': 3,\n",
    "            'industry': 4,\n",
    "            'education': 5,\n",
    "            'skills': 7\n",
    "        }\n",
    "\n",
    "        match_score = calculate_match_score(job_attributes, resume_attributes, weights)\n",
    "\n",
    "        # Validate match score (for demonstration purposes, you may adjust weights)\n",
    "        self.assertEqual(match_score, 100)\n",
    "\n",
    "    def test_complete(self):\n",
    "        job_description = \"\"\"\n",
    "            Chief NLP Scientist\n",
    "            $100k – $180k • 0.5% – 1.0%\n",
    "            About the job\n",
    "            *Position Summary *\n",
    "            The NLP platform is the core virtual platform powering the vision of delivering the world’s best and fully autonomous intelligent agent to our users.\n",
    "            \"\"\"\n",
    "            \n",
    "        resume = \"\"\"\n",
    "            John Doe\n",
    "            Machine Learning Engineer\n",
    "            Location: San Francisco, CA\n",
    "            Education: MS in Computer Science\n",
    "            Skills: NLP, Python, TensorFlow\n",
    "            \"\"\"\n",
    "        \n",
    "        matcher = ResumeMatcher(job_description, resume)\n",
    "        matching_scores = matcher.calculate_matching_score()\n",
    "        \n",
    "        for attribute, score in matching_scores.items():\n",
    "            print(f\"{attribute} Matching Score: {score:.2f}\")\n",
    "\n",
    "if __name__ == '__main__':\n",
    "    unittest.main()"
   ]
  },
  {
   "cell_type": "code",
   "execution_count": null,
   "id": "67d9a308-8743-4994-a425-a018cb4ad4cd",
   "metadata": {},
   "outputs": [],
   "source": [
    "job_description = \"\"\"\n",
    "    Chief NLP Scientist\n",
    "    $100k – $180k • 0.5% – 1.0%\n",
    "    About the job\n",
    "    *Position Summary *\n",
    "    The NLP platform is the core virtual platform powering the vision of delivering the world’s best and fully autonomous intelligent agent to our users.\n",
    "    \"\"\"\n",
    "    \n",
    "resume = \"\"\"\n",
    "    John Doe\n",
    "    Machine Learning Engineer\n",
    "    Location: San Francisco, CA\n",
    "    Education: MS in Computer Science\n",
    "    Skills: NLP, Python, TensorFlow\n",
    "    \"\"\"\n",
    "weights = {\n",
    "    'job_title': 5,\n",
    "    'location': 3,\n",
    "    'industry': 4,\n",
    "    'education': 5,\n",
    "    'skills': 7\n",
    "}\n",
    "\n",
    "matcher = ResumeMatcher(job_description, resume)\n",
    "matching_scores = matcher.calculate_matching_score(weights)\n",
    "\n",
    "for attribute, score in matching_scores.items():\n",
    "    print(f\"{attribute} Matching Score: {score:.2f}\")"
   ]
  },
  {
   "cell_type": "code",
   "execution_count": null,
   "id": "fb63469e-b2e0-4557-a877-aa264f752887",
   "metadata": {},
   "outputs": [],
   "source": []
  }
 ],
 "metadata": {
  "kernelspec": {
   "display_name": "Python 3 (ipykernel)",
   "language": "python",
   "name": "python3"
  },
  "language_info": {
   "codemirror_mode": {
    "name": "ipython",
    "version": 3
   },
   "file_extension": ".py",
   "mimetype": "text/x-python",
   "name": "python",
   "nbconvert_exporter": "python",
   "pygments_lexer": "ipython3",
   "version": "3.9.6"
  }
 },
 "nbformat": 4,
 "nbformat_minor": 5
}
