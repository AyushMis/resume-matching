{
 "cells": [
  {
   "cell_type": "code",
   "execution_count": 1,
   "id": "43644a7a-9b9b-4ebc-a819-69f9308864f9",
   "metadata": {
    "scrolled": true
   },
   "outputs": [],
   "source": [
    "# !pip3 install transformers\n",
    "# !pip3 install torch\n",
    "# !pip3 install PyMuPDF\n",
    "# !pip3 install torch torchvision torchaudio"
   ]
  },
  {
   "cell_type": "code",
   "execution_count": 4,
   "id": "8b3bd191-f697-45ad-8113-8a51e3139dfa",
   "metadata": {},
   "outputs": [],
   "source": [
    "import spacy\n",
    "import torch\n",
    "from transformers import BertTokenizer, BertModel\n",
    "import fitz  # PyMuPDF\n",
    "import re"
   ]
  },
  {
   "cell_type": "code",
   "execution_count": 9,
   "id": "583b471c-8d06-44d6-8190-4f3c3e10c5b1",
   "metadata": {},
   "outputs": [],
   "source": [
    "class ResumeMatcher:\n",
    "    def __init__(self, job_description, resume):\n",
    "        # self.nlp = spacy.load(\"en_core_web_sm\")\n",
    "        self.job_description = job_description,\n",
    "        self.resume = resume\n",
    "        self.job_attributes = self.extract_attributes(job_description)\n",
    "        self.resume_attributes = self.extract_attributes(resume)\n",
    "    \n",
    "    def create_bert_embedding(self, text):\n",
    "        tokenizer = BertTokenizer.from_pretrained('bert-base-uncased')\n",
    "        model = BertModel.from_pretrained('bert-base-uncased')\n",
    "    \n",
    "        # Tokenize and convert to tensor\n",
    "        inputs = tokenizer(text, return_tensors=\"pt\")\n",
    "        outputs = model(**inputs)\n",
    "    \n",
    "        # Extract the embeddings from the second-to-last layer\n",
    "        embedding = outputs.last_hidden_state.mean(dim=1)\n",
    "    \n",
    "        return embedding\n",
    "    \n",
    "    def extract_attributes(self, text):\n",
    "        nlp = spacy.load(\"en_core_web_sm\")\n",
    "        doc = nlp(text)\n",
    "    \n",
    "        job_title = location = industry = education = skills = None\n",
    "    \n",
    "        for token in doc:\n",
    "            if \"JOB_TITLE\" in token.ent_type_:\n",
    "                job_title = token.text.strip()\n",
    "            elif \"GPE\" in token.ent_type_:\n",
    "                location = token.text.strip()\n",
    "            elif \"ORG\" in token.ent_type_:\n",
    "                industry = token.text.strip()\n",
    "            elif re.search(r'(?i)(Ph\\.?D\\.?|MS|Masters?|B(?:Tech)?|BS)\\s+in\\s+(.*?)(?=\\n|$)', token.text):\n",
    "                education = re.search(r'(?i)(Ph\\.?D\\.?|MS|Masters?|B(?:Tech)?|BS)\\s+in\\s+(.*?)(?=\\n|$)', token.text).group(2).strip()\n",
    "            elif re.search(r'(?i)\\b(?:NLP|AI|statistics|probability|python|c\\+\\+|keras|pytorch|machine learning)\\b', token.text):\n",
    "                if skills is None:\n",
    "                    skills = []\n",
    "                skills.append(re.search(r'(?i)\\b(?:NLP|AI|statistics|probability|python|c\\+\\+|keras|pytorch|machine learning)\\b', token.text).group(0).strip())\n",
    "    \n",
    "        if isinstance(skills, list):\n",
    "            skills = ', '.join(skills)\n",
    "    \n",
    "    \n",
    "        return {'job_title': job_title, 'location': location, 'industry': industry, 'education': education, 'skills': skills}\n",
    "    \n",
    "    def calculate_matching_score(self, weights):\n",
    "        print('Job description attributes:', self.job_attributes)\n",
    "        print('\\nResume attributes:', self.resume_attributes)\n",
    "        matching_scores = {}\n",
    "        total_weight = sum(weights.values())\n",
    "\n",
    "        print('\\nRunning matcher...\\n')\n",
    "        for attribute in self.job_attributes:\n",
    "            job_attribute_value = self.job_attributes[attribute]\n",
    "            resume_attribute_value = self.resume_attributes[attribute]\n",
    "    \n",
    "            if job_attribute_value is not None and resume_attribute_value is not None:\n",
    "                job_embedding = self.create_bert_embedding(job_attribute_value)\n",
    "                resume_embedding = self.create_bert_embedding(resume_attribute_value)\n",
    "    \n",
    "                # Calculate similarity score for each attribute\n",
    "                similarity_score = torch.nn.functional.cosine_similarity(job_embedding, resume_embedding, dim=1)\n",
    "                # Scale the similarity score by the corresponding weight\n",
    "                weighted_score = similarity_score.item() * weights.get(attribute, 1.0)\n",
    "                \n",
    "                # Normalize the weighted score to be in the range [0, 100]\n",
    "                normalized_score = (weighted_score / total_weight) * 100\n",
    "                \n",
    "                matching_scores[attribute] = normalized_score\n",
    "            else:\n",
    "                matching_scores[attribute] = 0\n",
    "    \n",
    "        return matching_scores"
   ]
  }
 ],
 "metadata": {
  "kernelspec": {
   "display_name": "Python 3 (ipykernel)",
   "language": "python",
   "name": "python3"
  },
  "language_info": {
   "codemirror_mode": {
    "name": "ipython",
    "version": 3
   },
   "file_extension": ".py",
   "mimetype": "text/x-python",
   "name": "python",
   "nbconvert_exporter": "python",
   "pygments_lexer": "ipython3",
   "version": "3.9.6"
  }
 },
 "nbformat": 4,
 "nbformat_minor": 5
}
